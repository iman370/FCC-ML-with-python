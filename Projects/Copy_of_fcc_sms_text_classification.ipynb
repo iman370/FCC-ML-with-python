{
  "cells": [
    {
      "cell_type": "markdown",
      "metadata": {
        "id": "view-in-github",
        "colab_type": "text"
      },
      "source": [
        "<a href=\"https://colab.research.google.com/github/iman370/FCC-ML-with-python/blob/main/Projects/Copy_of_fcc_sms_text_classification.ipynb\" target=\"_parent\"><img src=\"https://colab.research.google.com/assets/colab-badge.svg\" alt=\"Open In Colab\"/></a>"
      ]
    },
    {
      "cell_type": "markdown",
      "metadata": {
        "id": "Eg62Pmz3o83v"
      },
      "source": [
        "*Note: You are currently reading this using Google Colaboratory which is a cloud-hosted version of Jupyter Notebook. This is a document containing both text cells for documentation and runnable code cells. If you are unfamiliar with Jupyter Notebook, watch this 3-minute introduction before starting this challenge: https://www.youtube.com/watch?v=inN8seMm7UI*\n",
        "\n",
        "---\n",
        "\n",
        "In this challenge, you need to create a machine learning model that will classify SMS messages as either \"ham\" or \"spam\". A \"ham\" message is a normal message sent by a friend. A \"spam\" message is an advertisement or a message sent by a company.\n",
        "\n",
        "You should create a function called `predict_message` that takes a message string as an argument and returns a list. The first element in the list should be a number between zero and one that indicates the likeliness of \"ham\" (0) or \"spam\" (1). The second element in the list should be the word \"ham\" or \"spam\", depending on which is most likely.\n",
        "\n",
        "For this challenge, you will use the [SMS Spam Collection dataset](http://www.dt.fee.unicamp.br/~tiago/smsspamcollection/). The dataset has already been grouped into train data and test data.\n",
        "\n",
        "The first two cells import the libraries and data. The final cell tests your model and function. Add your code in between these cells.\n"
      ]
    },
    {
      "cell_type": "code",
      "execution_count": null,
      "metadata": {
        "id": "8RZOuS9LWQvv"
      },
      "outputs": [],
      "source": [
        "# import libraries\n",
        "try:\n",
        "  # %tensorflow_version only exists in Colab.\n",
        "  !pip install tf-nightly\n",
        "except Exception:\n",
        "  pass\n",
        "import tensorflow as tf\n",
        "import pandas as pd\n",
        "from tensorflow import keras\n",
        "!pip install tensorflow-datasets\n",
        "import tensorflow_datasets as tfds\n",
        "import numpy as np\n",
        "import matplotlib.pyplot as plt\n",
        "\n",
        "print(tf.__version__)"
      ]
    },
    {
      "cell_type": "code",
      "execution_count": null,
      "metadata": {
        "id": "lMHwYXHXCar3"
      },
      "outputs": [],
      "source": [
        "# get data files\n",
        "!wget https://cdn.freecodecamp.org/project-data/sms/train-data.tsv\n",
        "!wget https://cdn.freecodecamp.org/project-data/sms/valid-data.tsv\n",
        "\n",
        "train_file_path = \"train-data.tsv\"\n",
        "test_file_path = \"valid-data.tsv\""
      ]
    },
    {
      "cell_type": "code",
      "execution_count": null,
      "metadata": {
        "id": "g_h508FEClxO"
      },
      "outputs": [],
      "source": [
        "train_dataset=pd.read_csv(train_file_path,sep='\\t', header=None, names=[\"type\", \"text\"])\n",
        "#train_dataset.head()\n",
        "\n",
        "test_dataset=pd.read_csv(test_file_path,sep='\\t', header=None, names=[\"type\", \"text\"])\n",
        "#test_dataset.tail()"
      ]
    },
    {
      "cell_type": "code",
      "source": [
        "# Pre-process the data so 'ham' is represented by 0 and 'spam' is represented by 1.\n",
        "train_dataset['type'] = train_dataset['type'].map({'spam': 'isSpam'})\n",
        "train_dataset = pd.get_dummies(train_dataset, columns=['type'], prefix='', prefix_sep='')\n",
        "#train_dataset.tail()\n",
        "\n",
        "test_dataset['type'] = test_dataset['type'].map({'spam': 'isSpam'})\n",
        "test_dataset = pd.get_dummies(test_dataset, columns=['type'], prefix='', prefix_sep='')\n",
        "#test_dataset.tail()"
      ],
      "metadata": {
        "id": "_IWfEkjwDRE6"
      },
      "execution_count": null,
      "outputs": []
    },
    {
      "cell_type": "code",
      "execution_count": null,
      "metadata": {
        "id": "zOMKywn4zReN"
      },
      "outputs": [],
      "source": [
        "# Separate the features from what we want to predict\n",
        "train_features = train_dataset.copy()\n",
        "train_labels = train_features.pop('isSpam')\n",
        "\n",
        "test_features = test_dataset.copy()\n",
        "test_labels = test_features.pop('isSpam')"
      ]
    },
    {
      "cell_type": "code",
      "source": [
        "# Let's check the database so far\n",
        "#print(train_features['text'])\n",
        "print(train_features)\n",
        "train_features.describe()"
      ],
      "metadata": {
        "id": "iJf0zgltBShl"
      },
      "execution_count": null,
      "outputs": []
    },
    {
      "cell_type": "markdown",
      "source": [
        "**This is what I followed to pre-process the data: https://towardsdatascience.com/email-spam-detection-1-2-b0e06a5c0472"
      ],
      "metadata": {
        "id": "dY9yA_n_wNZM"
      }
    },
    {
      "cell_type": "code",
      "source": [
        "# Integer encoding each word so that we can pass it through to the neural network\n",
        "from keras.preprocessing.text import Tokenizer\n",
        "from keras_preprocessing.sequence import pad_sequences\n",
        "\n",
        "VOCAB_SIZE = 5000\n",
        "\n",
        "# Tokenization\n",
        "tokenizer = Tokenizer(num_words=VOCAB_SIZE, lower= 1, oov_token=\"<OOV>\")\n",
        "tokenizer.fit_on_texts(train_features['text'])\n",
        "word_index = tokenizer.word_index\n",
        "print(word_index)"
      ],
      "metadata": {
        "id": "SmiAr5nmGfh0"
      },
      "execution_count": null,
      "outputs": []
    },
    {
      "cell_type": "code",
      "source": [
        "# Sequencing\n",
        "train_sequences = tokenizer.texts_to_sequences(train_features['text'])\n",
        "print(train_sequences)"
      ],
      "metadata": {
        "id": "MrzgJMUBjJ1q"
      },
      "execution_count": null,
      "outputs": []
    },
    {
      "cell_type": "code",
      "source": [
        "# Padding\n",
        "MAXLEN = 100\n",
        "train_data = keras.preprocessing.sequence.pad_sequences(train_sequences, MAXLEN)\n",
        "print(train_data)"
      ],
      "metadata": {
        "id": "GPQDn_mWlYys"
      },
      "execution_count": null,
      "outputs": []
    },
    {
      "cell_type": "code",
      "source": [
        "# Now do the same with the testing data\n",
        "test_sequences = tokenizer.texts_to_sequences(test_features['text']) # Sequencing\n",
        "test_data = keras.preprocessing.sequence.pad_sequences(test_sequences, MAXLEN)\n",
        "print(test_data)"
      ],
      "metadata": {
        "id": "b4QxcliitGei"
      },
      "execution_count": null,
      "outputs": []
    },
    {
      "cell_type": "code",
      "source": [
        "# Making the model\n",
        "model = tf.keras.Sequential([\n",
        "    tf.keras.layers.Embedding(VOCAB_SIZE, 32),\n",
        "    tf.keras.layers.LSTM(32),\n",
        "    tf.keras.layers.Dense(1, activation=\"sigmoid\")\n",
        "])\n",
        "model.summary()"
      ],
      "metadata": {
        "id": "5NREc5-Ltg8D"
      },
      "execution_count": null,
      "outputs": []
    },
    {
      "cell_type": "code",
      "source": [
        "# Compiling the model\n",
        "model.compile(loss=\"binary_crossentropy\",optimizer=\"rmsprop\",metrics=['acc'])\n",
        "\n",
        "history = model.fit(train_data, train_labels, epochs=10, validation_split=0.2)"
      ],
      "metadata": {
        "id": "flvyzTAsxazc"
      },
      "execution_count": null,
      "outputs": []
    },
    {
      "cell_type": "code",
      "source": [
        "# Evaluation\n",
        "results = model.evaluate(test_data, test_labels)\n",
        "print(results)"
      ],
      "metadata": {
        "id": "7WeAYu3ozY0T"
      },
      "execution_count": null,
      "outputs": []
    },
    {
      "cell_type": "code",
      "source": [
        "def encode_text(text): # We should encode our text with the same encoding used to make the model\n",
        "  encoded = tokenizer.texts_to_sequences([text])\n",
        "  #print(encoded[0])\n",
        "  return keras.preprocessing.sequence.pad_sequences([encoded[0]], MAXLEN)[0]\n",
        "\n",
        "encode_text(\"how are you doing today\")"
      ],
      "metadata": {
        "id": "nLeWgx93z9cF"
      },
      "execution_count": null,
      "outputs": []
    },
    {
      "cell_type": "code",
      "execution_count": null,
      "metadata": {
        "id": "J9tD9yACG6M9"
      },
      "outputs": [],
      "source": [
        "# function to predict messages based on model\n",
        "# (should return list containing prediction and label, ex. [0.008318834938108921, 'ham'])\n",
        "def predict_message(pred_text):\n",
        "  encoded_text = encode_text(pred_text)\n",
        "  pred = np.zeros((1,100))\n",
        "  pred[0] = encoded_text\n",
        "  result = model.predict(pred) \n",
        "  #print(result[0])\n",
        "\n",
        "  # The model should return a probability\n",
        "  # Here, we should round the probability up or down\n",
        "  # If rounded to 0 then it's ham, else it's spam\n",
        "\n",
        "  if (result[0] >= 0.5):\n",
        "    return (result[0], \"spam\")\n",
        "  else:\n",
        "    return (result[0], \"ham\")\n",
        "  #return (prediction)\n",
        "\n",
        "#pred_text = \"how are you doing today?\"\n",
        "pred_text = \"you have won £1000 cash! call to claim your prize.\"\n",
        "\n",
        "prediction = predict_message(pred_text)\n",
        "print(prediction)"
      ]
    },
    {
      "cell_type": "code",
      "execution_count": null,
      "metadata": {
        "id": "Dxotov85SjsC"
      },
      "outputs": [],
      "source": [
        "# Run this cell to test your function and model. Do not modify contents.\n",
        "def test_predictions():\n",
        "  test_messages = [\"how are you doing today\",\n",
        "                   \"sale today! to stop texts call 98912460324\",\n",
        "                   \"i dont want to go. can we try it a different day? available sat\",\n",
        "                   \"our new mobile video service is live. just install on your phone to start watching.\",\n",
        "                   \"you have won £1000 cash! call to claim your prize.\",\n",
        "                   \"i'll bring it tomorrow. don't forget the milk.\",\n",
        "                   \"wow, is your arm alright. that happened to me one time too\"\n",
        "                  ]\n",
        "\n",
        "  test_answers = [\"ham\", \"spam\", \"ham\", \"spam\", \"spam\", \"ham\", \"ham\"]\n",
        "  passed = True\n",
        "\n",
        "  for msg, ans in zip(test_messages, test_answers):\n",
        "    prediction = predict_message(msg)\n",
        "    if prediction[1] != ans:\n",
        "      passed = False\n",
        "\n",
        "  if passed:\n",
        "    print(\"You passed the challenge. Great job!\")\n",
        "  else:\n",
        "    print(\"You haven't passed yet. Keep trying.\")\n",
        "\n",
        "test_predictions()"
      ]
    }
  ],
  "metadata": {
    "colab": {
      "collapsed_sections": [],
      "name": "Copy of fcc_sms_text_classification.ipynb",
      "private_outputs": true,
      "provenance": [],
      "include_colab_link": true
    },
    "kernelspec": {
      "display_name": "Python 3",
      "name": "python3"
    },
    "language_info": {}
  },
  "nbformat": 4,
  "nbformat_minor": 0
}